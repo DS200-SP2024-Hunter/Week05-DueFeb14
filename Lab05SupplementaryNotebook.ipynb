{
  "metadata": {
    "kernelspec": {
      "display_name": "Python 3 (ipykernel)",
      "language": "python",
      "name": "python3"
    },
    "language_info": {
      "codemirror_mode": {
        "name": "ipython",
        "version": 3
      },
      "file_extension": ".py",
      "mimetype": "text/x-python",
      "name": "python",
      "nbconvert_exporter": "python",
      "pygments_lexer": "ipython3",
      "version": "3.7.9"
    },
    "colab": {
      "provenance": []
    }
  },
  "nbformat": 4,
  "nbformat_minor": 5,
  "cells": [
    {
      "cell_type": "markdown",
      "source": [
        "# https://github.com/DS200-SP2024-Hunter/Week05-DueFeb14\n",
        "Follow this git repo. The supplementary notebook itself was made based on this repo.\n",
        "\n",
        "### Reach out if you need help!\n",
        "\n",
        "### vzm5268@psu.edu\n",
        "### Office Hours: Wednesdays 10-12PM"
      ],
      "metadata": {
        "id": "_0TAkfvOmxg8"
      }
    },
    {
      "cell_type": "code",
      "execution_count": 1,
      "metadata": {
        "id": "FyEMFdFiBR2d"
      },
      "outputs": [],
      "source": [
        "from datascience import *\n",
        "%matplotlib inline\n",
        "path_data = '../../../assets/data/'\n",
        "import matplotlib.pyplot as plt\n",
        "plt.style.use('fivethirtyeight')\n",
        "import math\n",
        "from scipy import stats\n",
        "import numpy as np\n",
        "import warnings\n",
        "warnings.simplefilter(action='ignore', category=np.VisibleDeprecationWarning)"
      ]
    },
    {
      "cell_type": "markdown",
      "source": [
        "The main objective of today's lab is to produce a map of Penn State University's campuses based on the tools presented in Section 8.5 in the textbook. You will also need to use the join and group methods presented in Sections 8.4 and 8.5, which are extremely important data-handling skills.\n",
        "\n",
        "When you turn in your work, it should not contain any irrelevant text and code boxes from the textbook Jupyter notebooks. Please delete text and code boxes unrelated to the assignment before you upload your lab."
      ],
      "metadata": {
        "id": "HEqq_X9NByue"
      }
    },
    {
      "cell_type": "markdown",
      "source": [
        "# Objective\n",
        "Produce two maps of Pennsylvania on which you plot the location of each campus using pins or circles, as in Section 8.5, where you can use size (radius) and/or color to indicate statistics about each campus."
      ],
      "metadata": {
        "id": "XcKpQIw6B4SB"
      }
    },
    {
      "cell_type": "markdown",
      "source": [
        "## 1\n",
        "Download the two .csv files in this repository using the read_table method in Section 8.5. (You should try to mimic the code that creates the trips object in that Jupyter notebook, but make changes to the name of the object and the filenames to suit the purpose of this lab). Here are the two full URLs for the files:"
      ],
      "metadata": {
        "id": "E06rcQ2GCUrw"
      }
    },
    {
      "cell_type": "code",
      "source": [
        "path1 = \"https://raw.githubusercontent.com/DS200-SP2024-Hunter/Week05-DueFeb14/main/PSUCampusLocations.csv\"\n",
        "path2 = \"https://raw.githubusercontent.com/DS200-SP2024-Hunter/Week05-DueFeb14/main/PSUDemographicDataFA2023.csv\""
      ],
      "metadata": {
        "id": "h0BR8w__BzRg"
      },
      "execution_count": 2,
      "outputs": []
    },
    {
      "cell_type": "code",
      "source": [
        "#Sample Code:\n",
        "#table_name = Table.read(path)"
      ],
      "metadata": {
        "id": "sSRv6DObfx_N"
      },
      "execution_count": 9,
      "outputs": []
    },
    {
      "cell_type": "markdown",
      "source": [
        "One of these files is a database of latitude and longitude locations of each campus, while the other is a table with more than 48000 rows that counts students in broken down by various categories, including location. You should give the Table objects you create sensible names"
      ],
      "metadata": {
        "id": "JsOdh9JOC9uM"
      }
    },
    {
      "cell_type": "markdown",
      "source": [
        "##2\n",
        "Create a map using only the smaller Table. To do this, first relabel the columns in this table using the relabel method so that their names are lat, long, and labels"
      ],
      "metadata": {
        "id": "ju2FC9iyCYZe"
      }
    },
    {
      "cell_type": "code",
      "source": [
        "## Sample code:\n",
        "\n",
        "#Work on the latitute, longitude table. Rename the three columns as below. The Marker.map_table() will work fine only if the columns are as shown.\n",
        "\n",
        "'''\n",
        "LocationTable.relabel('Lat', 'lat')\n",
        "LocationTable.relabel('Long', 'long')\n",
        "LocationTable.relabel('Campus', 'labels')\n",
        "'''"
      ],
      "metadata": {
        "id": "4GhL994QCcwC"
      },
      "execution_count": null,
      "outputs": []
    },
    {
      "cell_type": "markdown",
      "source": [
        "It turns out that the Marker.map_table method requires a table with columns in exactly the correct ordering (lat then long then labels), so you can perform this reordering using"
      ],
      "metadata": {
        "id": "JuMF3QsshEZT"
      }
    },
    {
      "cell_type": "code",
      "source": [
        "#LocationTable = LocationTable.select('lat','long','labels')\n",
        "#Marker.map_table(LocationTable)"
      ],
      "metadata": {
        "id": "6Ony7z72g94n"
      },
      "execution_count": null,
      "outputs": []
    },
    {
      "cell_type": "markdown",
      "source": [
        "##3"
      ],
      "metadata": {
        "id": "5Dmj-UOGfIWa"
      }
    },
    {
      "cell_type": "markdown",
      "source": [
        "Use the join method to create a new (very large!) Table object in which each row contains both the student information and the latitude/longitude positions of their campuses."
      ],
      "metadata": {
        "id": "75ODQUvOfPaq"
      }
    },
    {
      "cell_type": "code",
      "source": [
        "# you can interchange table1 with table2 i.e, joining table1 with table2 or table2 with table1\n",
        "# encourage you to try both ways to understand whats happening. Delete one of them and proceed\n",
        "\n",
        "'''\n",
        "MyTableObjectName = table1.join('Column_from_table1', table2, 'Column_from_table2')\n",
        "'''"
      ],
      "metadata": {
        "id": "bPUMkq_XfUGE"
      },
      "execution_count": 11,
      "outputs": []
    },
    {
      "cell_type": "code",
      "source": [
        "# Then try to see all the columns present in new table\n",
        "'''\n",
        "MyTableObjectName.labels\n",
        "'''"
      ],
      "metadata": {
        "id": "taZ5J2iZhUSp"
      },
      "execution_count": null,
      "outputs": []
    },
    {
      "cell_type": "markdown",
      "source": [
        "##4"
      ],
      "metadata": {
        "id": "R5_frjT8hkM4"
      }
    },
    {
      "cell_type": "markdown",
      "source": [
        "Group the rows in your large Table object according to the campus location using MyTableObjectName.group('Location'). Give this grouped object a name, then print it out in its entirety using the show() method, as in:"
      ],
      "metadata": {
        "id": "-xOpt4fth0d7"
      }
    },
    {
      "cell_type": "code",
      "source": [
        "'''\n",
        "GroupedByCampus = MyTableObjectName.group('Location')\n",
        "GroupedByCampus.show()\n",
        "'''"
      ],
      "metadata": {
        "id": "sL7LarZlhmyr"
      },
      "execution_count": null,
      "outputs": []
    },
    {
      "cell_type": "markdown",
      "source": [
        "##5"
      ],
      "metadata": {
        "id": "PjiHXwNXh5xj"
      }
    },
    {
      "cell_type": "markdown",
      "source": [
        "Create a new map using circles where the radius of each circle is controled by the count column in your grouped object. See Section 8.5 for examples of how this works. Remember that you should select only the correct columns and make sure they are selected in the right order and then relabeled if necessary to match the code in Section 8.5. Feel free to try adding different colors if you want."
      ],
      "metadata": {
        "id": "1kJeJ5vih8Ck"
      }
    },
    {
      "cell_type": "code",
      "source": [
        "# for this task, extract only the required columns - lat, long, labels(campuses), group them by campuses\n",
        "# add two more columns - color: blue/green or any color of your choice and areas: count column * some decimal (tune it as per your wish)\n",
        "# Perform Circle.map_table(your_new_table)"
      ],
      "metadata": {
        "id": "lBG7fJcRiBV4"
      },
      "execution_count": null,
      "outputs": []
    }
  ]
}